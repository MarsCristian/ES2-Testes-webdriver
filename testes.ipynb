{
 "cells": [
  {
   "cell_type": "code",
   "execution_count": 1,
   "metadata": {},
   "outputs": [],
   "source": [
    "from selenium.webdriver import Chrome\n",
    "from selenium.webdriver.support.ui import Select\n",
    "from selenium import webdriver\n",
    "\n",
    "driver = webdriver.Chrome()\n",
    "driver.get(\"http://127.0.0.1:8080/\")\n",
    "\n"
   ]
  },
  {
   "cell_type": "code",
   "execution_count": 2,
   "metadata": {},
   "outputs": [],
   "source": [
    "#admin@gmail.com\n",
    "#admin"
   ]
  },
  {
   "cell_type": "code",
   "execution_count": 4,
   "metadata": {},
   "outputs": [
    {
     "ename": "NoSuchElementException",
     "evalue": "Message: no such element: Unable to locate element: {\"method\":\"css selector\",\"selector\":\"input[value=\"Login\"]\"}\n  (Session info: chrome=115.0.5790.171)\nStacktrace:\nBacktrace:\n\tGetHandleVerifier [0x00ACA813+48355]\n\t(No symbol) [0x00A5C4B1]\n\t(No symbol) [0x00965358]\n\t(No symbol) [0x009909A5]\n\t(No symbol) [0x00990B3B]\n\t(No symbol) [0x009BE232]\n\t(No symbol) [0x009AA784]\n\t(No symbol) [0x009BC922]\n\t(No symbol) [0x009AA536]\n\t(No symbol) [0x009882DC]\n\t(No symbol) [0x009893DD]\n\tGetHandleVerifier [0x00D2AABD+2539405]\n\tGetHandleVerifier [0x00D6A78F+2800735]\n\tGetHandleVerifier [0x00D6456C+2775612]\n\tGetHandleVerifier [0x00B551E0+616112]\n\t(No symbol) [0x00A65F8C]\n\t(No symbol) [0x00A62328]\n\t(No symbol) [0x00A6240B]\n\t(No symbol) [0x00A54FF7]\n\tBaseThreadInitThunk [0x765C00C9+25]\n\tRtlGetAppContainerNamedObjectPath [0x77917B1E+286]\n\tRtlGetAppContainerNamedObjectPath [0x77917AEE+238]\n",
     "output_type": "error",
     "traceback": [
      "\u001b[1;31m---------------------------------------------------------------------------\u001b[0m",
      "\u001b[1;31mNoSuchElementException\u001b[0m                    Traceback (most recent call last)",
      "Cell \u001b[1;32mIn[4], line 5\u001b[0m\n\u001b[0;32m      1\u001b[0m \u001b[39m#testes de login\u001b[39;00m\n\u001b[0;32m      2\u001b[0m \n\u001b[0;32m      3\u001b[0m \n\u001b[0;32m      4\u001b[0m \u001b[39m# Encontrar o botão de login usando o seletor CSS\u001b[39;00m\n\u001b[1;32m----> 5\u001b[0m botao_login \u001b[39m=\u001b[39m driver\u001b[39m.\u001b[39;49mfind_element(\u001b[39m\"\u001b[39;49m\u001b[39mcss selector\u001b[39;49m\u001b[39m\"\u001b[39;49m, \u001b[39m'\u001b[39;49m\u001b[39minput[value=\u001b[39;49m\u001b[39m\"\u001b[39;49m\u001b[39mLogin\u001b[39;49m\u001b[39m\"\u001b[39;49m\u001b[39m]\u001b[39;49m\u001b[39m'\u001b[39;49m)\n\u001b[0;32m      6\u001b[0m \u001b[39m# Clicar no botão de login\u001b[39;00m\n\u001b[0;32m      7\u001b[0m botao_login\u001b[39m.\u001b[39mclick()\n",
      "File \u001b[1;32mc:\\Users\\crist\\AppData\\Local\\Programs\\Python\\Python311\\Lib\\site-packages\\selenium\\webdriver\\remote\\webdriver.py:831\u001b[0m, in \u001b[0;36mWebDriver.find_element\u001b[1;34m(self, by, value)\u001b[0m\n\u001b[0;32m    828\u001b[0m     by \u001b[39m=\u001b[39m By\u001b[39m.\u001b[39mCSS_SELECTOR\n\u001b[0;32m    829\u001b[0m     value \u001b[39m=\u001b[39m \u001b[39mf\u001b[39m\u001b[39m'\u001b[39m\u001b[39m[name=\u001b[39m\u001b[39m\"\u001b[39m\u001b[39m{\u001b[39;00mvalue\u001b[39m}\u001b[39;00m\u001b[39m\"\u001b[39m\u001b[39m]\u001b[39m\u001b[39m'\u001b[39m\n\u001b[1;32m--> 831\u001b[0m \u001b[39mreturn\u001b[39;00m \u001b[39mself\u001b[39;49m\u001b[39m.\u001b[39;49mexecute(Command\u001b[39m.\u001b[39;49mFIND_ELEMENT, {\u001b[39m\"\u001b[39;49m\u001b[39musing\u001b[39;49m\u001b[39m\"\u001b[39;49m: by, \u001b[39m\"\u001b[39;49m\u001b[39mvalue\u001b[39;49m\u001b[39m\"\u001b[39;49m: value})[\u001b[39m\"\u001b[39m\u001b[39mvalue\u001b[39m\u001b[39m\"\u001b[39m]\n",
      "File \u001b[1;32mc:\\Users\\crist\\AppData\\Local\\Programs\\Python\\Python311\\Lib\\site-packages\\selenium\\webdriver\\remote\\webdriver.py:440\u001b[0m, in \u001b[0;36mWebDriver.execute\u001b[1;34m(self, driver_command, params)\u001b[0m\n\u001b[0;32m    438\u001b[0m response \u001b[39m=\u001b[39m \u001b[39mself\u001b[39m\u001b[39m.\u001b[39mcommand_executor\u001b[39m.\u001b[39mexecute(driver_command, params)\n\u001b[0;32m    439\u001b[0m \u001b[39mif\u001b[39;00m response:\n\u001b[1;32m--> 440\u001b[0m     \u001b[39mself\u001b[39;49m\u001b[39m.\u001b[39;49merror_handler\u001b[39m.\u001b[39;49mcheck_response(response)\n\u001b[0;32m    441\u001b[0m     response[\u001b[39m\"\u001b[39m\u001b[39mvalue\u001b[39m\u001b[39m\"\u001b[39m] \u001b[39m=\u001b[39m \u001b[39mself\u001b[39m\u001b[39m.\u001b[39m_unwrap_value(response\u001b[39m.\u001b[39mget(\u001b[39m\"\u001b[39m\u001b[39mvalue\u001b[39m\u001b[39m\"\u001b[39m, \u001b[39mNone\u001b[39;00m))\n\u001b[0;32m    442\u001b[0m     \u001b[39mreturn\u001b[39;00m response\n",
      "File \u001b[1;32mc:\\Users\\crist\\AppData\\Local\\Programs\\Python\\Python311\\Lib\\site-packages\\selenium\\webdriver\\remote\\errorhandler.py:245\u001b[0m, in \u001b[0;36mErrorHandler.check_response\u001b[1;34m(self, response)\u001b[0m\n\u001b[0;32m    243\u001b[0m         alert_text \u001b[39m=\u001b[39m value[\u001b[39m\"\u001b[39m\u001b[39malert\u001b[39m\u001b[39m\"\u001b[39m]\u001b[39m.\u001b[39mget(\u001b[39m\"\u001b[39m\u001b[39mtext\u001b[39m\u001b[39m\"\u001b[39m)\n\u001b[0;32m    244\u001b[0m     \u001b[39mraise\u001b[39;00m exception_class(message, screen, stacktrace, alert_text)  \u001b[39m# type: ignore[call-arg]  # mypy is not smart enough here\u001b[39;00m\n\u001b[1;32m--> 245\u001b[0m \u001b[39mraise\u001b[39;00m exception_class(message, screen, stacktrace)\n",
      "\u001b[1;31mNoSuchElementException\u001b[0m: Message: no such element: Unable to locate element: {\"method\":\"css selector\",\"selector\":\"input[value=\"Login\"]\"}\n  (Session info: chrome=115.0.5790.171)\nStacktrace:\nBacktrace:\n\tGetHandleVerifier [0x00ACA813+48355]\n\t(No symbol) [0x00A5C4B1]\n\t(No symbol) [0x00965358]\n\t(No symbol) [0x009909A5]\n\t(No symbol) [0x00990B3B]\n\t(No symbol) [0x009BE232]\n\t(No symbol) [0x009AA784]\n\t(No symbol) [0x009BC922]\n\t(No symbol) [0x009AA536]\n\t(No symbol) [0x009882DC]\n\t(No symbol) [0x009893DD]\n\tGetHandleVerifier [0x00D2AABD+2539405]\n\tGetHandleVerifier [0x00D6A78F+2800735]\n\tGetHandleVerifier [0x00D6456C+2775612]\n\tGetHandleVerifier [0x00B551E0+616112]\n\t(No symbol) [0x00A65F8C]\n\t(No symbol) [0x00A62328]\n\t(No symbol) [0x00A6240B]\n\t(No symbol) [0x00A54FF7]\n\tBaseThreadInitThunk [0x765C00C9+25]\n\tRtlGetAppContainerNamedObjectPath [0x77917B1E+286]\n\tRtlGetAppContainerNamedObjectPath [0x77917AEE+238]\n"
     ]
    }
   ],
   "source": [
    "#testes de login\n",
    "\n",
    "\n",
    "# Encontrar o botão de login usando o seletor CSS\n",
    "botao_login = driver.find_element(\"css selector\", 'input[value=\"Login\"]')\n",
    "# Clicar no botão de login\n",
    "botao_login.click()\n",
    "\n",
    "#inserir dados\n",
    "#Encontrar o campo de entrada do nome de usuário e inserir o valor\n",
    "campo_usuario = driver.find_element(\"css selector\", 'input[name=\"username\"]')\n",
    "campo_usuario.send_keys(\"admin@gmail.com\")\n",
    "\n",
    "# Encontrar o campo de entrada da senha e inserir o valor\n",
    "campo_senha = driver.find_element(\"css selector\", 'input[name=\"password\"]')\n",
    "campo_senha.send_keys(\"admin\")\n",
    "\n",
    "# Encontrar o botão \"Entrar\" e clicar nele\n",
    "botao_entrar = driver.find_element(\"css selector\", 'input[value=\"Entrar\"]')\n",
    "botao_entrar.click()\n",
    "\n",
    "#logado como admin\n"
   ]
  },
  {
   "cell_type": "code",
   "execution_count": 7,
   "metadata": {},
   "outputs": [],
   "source": [
    "# testes de validacao de dados\n",
    "#logado como admin\n",
    "\n",
    "link_cadastrar_locadora = driver.find_element(\"link text\", \"Cadastrar\")\n",
    "link_cadastrar_locadora.click()\n",
    "resposta = []\n",
    "try:\n",
    "    # Localizar os campos de entrada e preencher os dados\n",
    "    try:\n",
    "        campo_nome = driver.find_element(\"id\", \"nome\")\n",
    "        campo_nome.send_keys(teste=vg.generate_valid_password())\n",
    "    except:\n",
    "        resposta.append('Falhou no campo Nome: '+teste)\n",
    "\n",
    "    campo_cidade = driver.find_element(\"id\", \"cidade\")\n",
    "    campo_cidade.send_keys(vg.generate_valid_password())\n",
    "\n",
    "    campo_telefone = driver.find_element(\"id\", \"telefone\")\n",
    "    campo_telefone.send_keys(vg.generate_valid_phone())\n",
    "\n",
    "    campo_cnpj = driver.find_element(\"id\", \"cnpj\")\n",
    "    campo_cnpj.send_keys(vg.generate_valid_cnpj())\n",
    "\n",
    "    campo_senha = driver.find_element(\"id\",\"senha\")\n",
    "    campo_senha.send_keys(vg.generate_valid_password())\n",
    "\n",
    "    campo_email = driver.find_element(\"id\",\"email\")\n",
    "    campo_email.send_keys(vg.generate_valid_email())\n",
    "except:\n",
    "    pass\n",
    "\n",
    "botao_salvar = driver.find_element(\"css selector\", 'button[type=\"submit\"]')\n",
    "botao_salvar.click()"
   ]
  },
  {
   "cell_type": "code",
   "execution_count": null,
   "metadata": {},
   "outputs": [
    {
     "data": {
      "text/plain": [
       "'14.374.932/0441-84'"
      ]
     },
     "execution_count": 32,
     "metadata": {},
     "output_type": "execute_result"
    }
   ],
   "source": [
    "import Valid_Generator as vg\n",
    "\n",
    "vg.generate_valid_cnpj()"
   ]
  },
  {
   "cell_type": "code",
   "execution_count": null,
   "metadata": {},
   "outputs": [],
   "source": [
    "import Webdriver_Utils as wu\n",
    "\n",
    "driver = wu.open_site()\n"
   ]
  },
  {
   "cell_type": "code",
   "execution_count": null,
   "metadata": {},
   "outputs": [],
   "source": [
    "wu.login('admin@gmail.com','admin',driver)"
   ]
  },
  {
   "cell_type": "code",
   "execution_count": null,
   "metadata": {},
   "outputs": [],
   "source": [
    "wu.cadastrar_locadora(driver)"
   ]
  }
 ],
 "metadata": {
  "kernelspec": {
   "display_name": "Python 3",
   "language": "python",
   "name": "python3"
  },
  "language_info": {
   "codemirror_mode": {
    "name": "ipython",
    "version": 3
   },
   "file_extension": ".py",
   "mimetype": "text/x-python",
   "name": "python",
   "nbconvert_exporter": "python",
   "pygments_lexer": "ipython3",
   "version": "3.11.1"
  },
  "orig_nbformat": 4
 },
 "nbformat": 4,
 "nbformat_minor": 2
}
