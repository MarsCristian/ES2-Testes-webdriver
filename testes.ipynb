{
 "cells": [
  {
   "cell_type": "code",
   "execution_count": 9,
   "metadata": {},
   "outputs": [],
   "source": [
    "from selenium.webdriver import Chrome\n",
    "from selenium.webdriver.support.ui import Select\n",
    "from selenium import webdriver\n",
    "\n",
    "driver = webdriver.Chrome()\n",
    "driver.get(\"http://127.0.0.1:8080/\")\n",
    "\n"
   ]
  },
  {
   "cell_type": "code",
   "execution_count": null,
   "metadata": {},
   "outputs": [],
   "source": [
    "#admin@gmail.com\n",
    "#admin"
   ]
  },
  {
   "cell_type": "code",
   "execution_count": 10,
   "metadata": {},
   "outputs": [],
   "source": [
    "#testes de login\n",
    "\n",
    "\n",
    "# Encontrar o botão de login usando o seletor CSS\n",
    "botao_login = driver.find_element(\"css selector\", 'input[value=\"Login\"]')\n",
    "# Clicar no botão de login\n",
    "botao_login.click()\n",
    "\n",
    "#inserir dados\n",
    "#Encontrar o campo de entrada do nome de usuário e inserir o valor\n",
    "campo_usuario = driver.find_element(\"css selector\", 'input[name=\"username\"]')\n",
    "campo_usuario.send_keys(\"admin@gmail.com\")\n",
    "\n",
    "# Encontrar o campo de entrada da senha e inserir o valor\n",
    "campo_senha = driver.find_element(\"css selector\", 'input[name=\"password\"]')\n",
    "campo_senha.send_keys(\"admin\")\n",
    "\n",
    "# Encontrar o botão \"Entrar\" e clicar nele\n",
    "botao_entrar = driver.find_element(\"css selector\", 'input[value=\"Entrar\"]')\n",
    "botao_entrar.click()\n",
    "\n",
    "\n"
   ]
  },
  {
   "cell_type": "code",
   "execution_count": 19,
   "metadata": {},
   "outputs": [],
   "source": [
    "# testes de validacao de dados\n",
    "#logado como admin\n",
    "\n",
    "link_cadastrar_locadora = driver.find_element(\"link text\", \"Cadastrar\")\n",
    "link_cadastrar_locadora.click()\n",
    "try:\n",
    "    # Localizar os campos de entrada e preencher os dados\n",
    "    campo_nome = driver.find_element(\"id\", \"nome\")\n",
    "    campo_nome.send_keys(\"Nome da Locadora\")\n",
    "\n",
    "    campo_cidade = driver.find_element(\"id\", \"cidade\")\n",
    "    campo_cidade.send_keys(\"Cidade da Locadora\")\n",
    "\n",
    "    campo_telefone = driver.find_element(\"id\", \"telefone\")\n",
    "    campo_telefone.send_keys(generate_valid_phone())\n",
    "\n",
    "    campo_cnpj = driver.find_element(\"id\", \"cnpj\")\n",
    "    campo_cnpj.send_keys(\"123456\")\n",
    "\n",
    "    campo_senha = driver.find_element(\"id\",\"senha\")\n",
    "    campo_senha.send_keys(\"senha\")\n",
    "except:\n",
    "    pass\n",
    "\n",
    "botao_salvar = driver.find_element(\"css selector\", 'button[type=\"submit\"]')\n",
    "botao_salvar.click()"
   ]
  },
  {
   "cell_type": "code",
   "execution_count": 20,
   "metadata": {},
   "outputs": [
    {
     "name": "stdout",
     "output_type": "stream",
     "text": [
      "(61)1045-2342\n",
      "(61)0792-1542\n",
      "(31)3347-9487\n",
      "(41)9708-1373\n",
      "(61)0211-1771\n"
     ]
    }
   ],
   "source": [
    "import random\n",
    "\n",
    "def generate_valid_phone():\n",
    "    # Gere os primeiros dígitos (DDD) aleatoriamente\n",
    "    ddd = random.choice([\"11\", \"21\", \"31\", \"41\", \"51\", \"61\", \"71\", \"81\", \"91\"])\n",
    "\n",
    "    # Gere os próximos 8 dígitos aleatoriamente\n",
    "    numeros = [random.randint(0, 9) for _ in range(8)]\n",
    "\n",
    "    # Converta os números em uma string e insira os separadores\n",
    "    numero_formatado = f\"({ddd}){''.join(map(str, numeros[:4]))}-{''.join(map(str, numeros[4:]))}\"\n",
    "\n",
    "    return numero_formatado\n",
    "\n",
    "# Gerar e imprimir alguns números de telefone válidos\n",
    "for _ in range(5):\n",
    "    telefone = generate_valid_phone()\n",
    "    print(telefone)\n"
   ]
  }
 ],
 "metadata": {
  "kernelspec": {
   "display_name": "Python 3",
   "language": "python",
   "name": "python3"
  },
  "language_info": {
   "codemirror_mode": {
    "name": "ipython",
    "version": 3
   },
   "file_extension": ".py",
   "mimetype": "text/x-python",
   "name": "python",
   "nbconvert_exporter": "python",
   "pygments_lexer": "ipython3",
   "version": "3.11.1"
  },
  "orig_nbformat": 4
 },
 "nbformat": 4,
 "nbformat_minor": 2
}
