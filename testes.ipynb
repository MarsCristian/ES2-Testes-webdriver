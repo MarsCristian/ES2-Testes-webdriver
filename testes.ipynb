{
 "cells": [
  {
   "cell_type": "code",
   "execution_count": 1,
   "metadata": {},
   "outputs": [],
   "source": [
    "from selenium.webdriver import Chrome\n",
    "from selenium.webdriver.support.ui import Select\n",
    "from selenium import webdriver\n",
    "\n",
    "driver = webdriver.Chrome()\n",
    "driver.get(\"http://127.0.0.1:8080/\")\n",
    "\n"
   ]
  },
  {
   "cell_type": "code",
   "execution_count": 2,
   "metadata": {},
   "outputs": [],
   "source": [
    "#admin@gmail.com\n",
    "#admin"
   ]
  },
  {
   "cell_type": "code",
   "execution_count": 2,
   "metadata": {},
   "outputs": [],
   "source": [
    "#testes de login\n",
    "\n",
    "\n",
    "# Encontrar o botão de login usando o seletor CSS\n",
    "botao_login = driver.find_element(\"css selector\", 'input[value=\"Login\"]')\n",
    "# Clicar no botão de login\n",
    "botao_login.click()\n",
    "\n",
    "#inserir dados\n",
    "#Encontrar o campo de entrada do nome de usuário e inserir o valor\n",
    "campo_usuario = driver.find_element(\"css selector\", 'input[name=\"username\"]')\n",
    "campo_usuario.send_keys(\"admin@gmail.com\")\n",
    "\n",
    "# Encontrar o campo de entrada da senha e inserir o valor\n",
    "campo_senha = driver.find_element(\"css selector\", 'input[name=\"password\"]')\n",
    "campo_senha.send_keys(\"admin\")\n",
    "\n",
    "# Encontrar o botão \"Entrar\" e clicar nele\n",
    "botao_entrar = driver.find_element(\"css selector\", 'input[value=\"Entrar\"]')\n",
    "botao_entrar.click()\n",
    "\n",
    "#logado como admin\n"
   ]
  },
  {
   "cell_type": "code",
   "execution_count": 6,
   "metadata": {},
   "outputs": [],
   "source": [
    "import Valid_Generator as vg"
   ]
  },
  {
   "cell_type": "code",
   "execution_count": 7,
   "metadata": {},
   "outputs": [
    {
     "name": "stdout",
     "output_type": "stream",
     "text": [
      "input de teste: ]6;Qt+2,r{kr\n",
      "lt3af2FM]*&|\n",
      "(21)7846-73289\n",
      "81.491.094/1029-42\n",
      "sG+7+:|ZRY9I\n",
      "qwihozptw@example.com\n",
      "[]\n"
     ]
    }
   ],
   "source": [
    "# testes de validacao de dados\n",
    "#logado como admin\n",
    "import Valid_Generator as vg\n",
    "\n",
    "link_cadastrar_locadora = driver.find_element(\"link text\", \"Cadastrar\")\n",
    "link_cadastrar_locadora.click()\n",
    "resposta = []\n",
    "try:\n",
    "    #gerar tuplas\n",
    "    nome= vg.generate_valid_password()\n",
    "    cidade= vg.generate_valid_password()\n",
    "    telefone= vg.generate_valid_phone()\n",
    "    cnpj= vg.generate_valid_cnpj()\n",
    "    senha= vg.generate_valid_password()\n",
    "    email= vg.generate_valid_email()\n",
    "    print('input de teste: '+nome+'\\n'+cidade+'\\n'+telefone+'\\n'+cnpj+'\\n'+senha+'\\n'+email)\n",
    "    # Localizar os campos de entrada e preencher os dados\n",
    "    try:\n",
    "        campo_nome = driver.find_element(\"id\", \"nome\")\n",
    "        campo_nome.send_keys(nome)\n",
    "    except:\n",
    "        resposta.append('Falhou no campo Nome: '+ nome)\n",
    "\n",
    "    try:\n",
    "        campo_cidade = driver.find_element(\"id\", \"cidade\")\n",
    "        campo_cidade.send_keys(cidade)\n",
    "    except:\n",
    "        resposta.append('Falhou no campo Cidade: '+cidade)\n",
    "\n",
    "\n",
    "    try:\n",
    "        campo_cnpj = driver.find_element(\"id\", \"CNPJ\")\n",
    "        campo_cnpj.send_keys(cnpj)\n",
    "    except:\n",
    "        resposta.append('Falhou no campo CNPJ: '+cnpj)\n",
    "\n",
    "    try:\n",
    "        campo_senha = driver.find_element(\"id\",\"senha\")\n",
    "        campo_senha.send_keys(senha)\n",
    "    except:\n",
    "        resposta.append('Falhou no campo Senha: '+senha)\n",
    "\n",
    "    try:\n",
    "        campo_email = driver.find_element(\"id\",\"email\")\n",
    "        campo_email.send_keys(email)\n",
    "    except:\n",
    "        resposta.append('Falhou no campo Email '+email)\n",
    "\n",
    "    try:\n",
    "        campo_telefone = driver.find_element(\"id\", \"telefone\")\n",
    "        campo_telefone.send_keys(telefone)\n",
    "    except:\n",
    "        resposta.append('Falhou no campo Telefone: '+telefone)\n",
    "\n",
    "except:\n",
    "    pass\n",
    "\n",
    "print(resposta)\n",
    "botao_salvar = driver.find_element(\"css selector\", 'button[type=\"submit\"]')\n",
    "botao_salvar.click()"
   ]
  },
  {
   "cell_type": "code",
   "execution_count": null,
   "metadata": {},
   "outputs": [
    {
     "data": {
      "text/plain": [
       "'14.374.932/0441-84'"
      ]
     },
     "execution_count": 32,
     "metadata": {},
     "output_type": "execute_result"
    }
   ],
   "source": [
    "import Valid_Generator as vg\n",
    "\n",
    "vg.generate_valid_cnpj()"
   ]
  },
  {
   "cell_type": "code",
   "execution_count": null,
   "metadata": {},
   "outputs": [],
   "source": [
    "import Webdriver_Utils as wu\n",
    "\n",
    "driver = wu.open_site()\n"
   ]
  },
  {
   "cell_type": "code",
   "execution_count": null,
   "metadata": {},
   "outputs": [],
   "source": [
    "wu.login('admin@gmail.com','admin',driver)"
   ]
  },
  {
   "cell_type": "code",
   "execution_count": null,
   "metadata": {},
   "outputs": [],
   "source": [
    "wu.cadastrar_locadora(driver)"
   ]
  }
 ],
 "metadata": {
  "kernelspec": {
   "display_name": "Python 3",
   "language": "python",
   "name": "python3"
  },
  "language_info": {
   "codemirror_mode": {
    "name": "ipython",
    "version": 3
   },
   "file_extension": ".py",
   "mimetype": "text/x-python",
   "name": "python",
   "nbconvert_exporter": "python",
   "pygments_lexer": "ipython3",
   "version": "3.11.1"
  },
  "orig_nbformat": 4
 },
 "nbformat": 4,
 "nbformat_minor": 2
}
